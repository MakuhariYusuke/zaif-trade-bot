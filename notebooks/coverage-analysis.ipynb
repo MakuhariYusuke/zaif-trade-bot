{
 "cells": [
  {
   "cell_type": "markdown",
   "id": "a822e987",
   "metadata": {},
   "source": [
    "# カバレッジ集約と公開ワークフロー\n",
    "このノートブックでは、複数 CI ジョブで生成されたカバレッジ成果物をマージし、安定した最終レポート生成・しきい値検証・通知整形までを一気通貫で再現します。"
   ]
  },
  {
   "cell_type": "markdown",
   "id": "927c3e05",
   "metadata": {},
   "source": [
    "## 1. 必要ツールのインストール（nyc/istanbul-lib-* と lcov-result-merger）\n",
    "VS Code のターミナルで実行するか、下記セルを実行して必要な開発依存を導入します。Node が無い場合は Volta または nvm のセットアップを検討してください。"
   ]
  },
  {
   "cell_type": "code",
   "execution_count": null,
   "id": "cc44109f",
   "metadata": {},
   "outputs": [],
   "source": [
    "# 開発依存の導入（必要に応じて）\n",
    "# 実行環境によっては権限の都合で失敗する場合があります。\n",
    "# 実運用中のリポでは package.json に追記して CI でインストールしてください。\n",
    "import os\n",
    "os.system(\"npm i -D nyc istanbul-lib-coverage istanbul-lib-report istanbul-reports lcov-result-merger cobertura-coverage || true\")\n"
   ]
  },
  {
   "cell_type": "markdown",
   "id": "f30e6663",
   "metadata": {},
   "source": [
    "## 2. ジョブ別カバレッジ成果物の取得と配置（artifacts/ 以下に集約）\n",
    "GitHub CLI (gh) を使って最新のワークフローの artifacts をダウンロードするか、ローカル再現用にサンプル構成を作成します。"
   ]
  },
  {
   "cell_type": "code",
   "execution_count": null,
   "id": "ed7335b5",
   "metadata": {},
   "outputs": [],
   "source": [
    "# gh が使える場合のダウンロード（手元でログインが必要）\n",
    "# !gh run list --workflow \"Tests (Matrix)\" --limit 1\n",
    "# !gh run download --name \"coverage-unit\" --dir artifacts || true\n",
    "# !gh run download --name \"coverage-integration\" --dir artifacts || true\n",
    "# !gh run download --name \"coverage-cb-rate\" --dir artifacts || true\n",
    "# !gh run download --name \"coverage-event-metrics\" --dir artifacts || true\n",
    "\n",
    "# サンプル構成を作る（存在しなければ）\n",
    "import os, json, pathlib\n",
    "pathlib.Path('artifacts/job-a/coverage').mkdir(parents=True, exist_ok=True)\n",
    "pathlib.Path('artifacts/job-b/coverage').mkdir(parents=True, exist_ok=True)\n",
    "# ダミー coverage-final.json を配置（実運用では artifacts から取得されます）\n",
    "sample_cov = {\"src/example.ts\": {\"path\": \"src/example.ts\", \"statementMap\": {\"0\": {\"start\": {\"line\": 1, \"column\": 0}, \"end\": {\"line\": 1, \"column\": 10}}}, \"s\": {\"0\": 1}, \"branchMap\": {}, \"b\": {}, \"fnMap\": {}, \"f\": {}}}\n",
    "json.dump(sample_cov, open('artifacts/job-a/coverage/coverage-final.json','w'))\n",
    "json.dump(sample_cov, open('artifacts/job-b/coverage/coverage-final.json','w'))\n",
    "print('artifacts prepared')\n"
   ]
  },
  {
   "cell_type": "markdown",
   "id": "38aae893",
   "metadata": {},
   "source": [
    "## 3. coverage exclude の検証と適用（__tests__/helpers, mocks の除外）\n",
    "vitest の設定から exclude を読み、必要なら後処理フィルタを適用します。"
   ]
  },
  {
   "cell_type": "code",
   "execution_count": null,
   "id": "7655c257",
   "metadata": {},
   "outputs": [],
   "source": [
    "# vitest.config.ts の exclude 参照と表示（読み取りのみ）\n",
    "from pathlib import Path\n",
    "conf = Path('vitest.config.ts').read_text(encoding='utf-8') if Path('vitest.config.ts').exists() else ''\n",
    "print('vitest.config.ts loaded:', bool(conf))\n",
    "print('\\n'.join([line for line in conf.splitlines() if 'exclude' in line or '__tests__/helpers' in line or 'mocks' in line]))\n",
    "\n",
    "# LCOV の後処理フィルタ（mocks や __tests__/helpers を除外）\n",
    "def filter_lcov(input_path: str, output_path: str):\n",
    "    keep = []\n",
    "    skip = False\n",
    "    for line in open(input_path, 'r', encoding='utf-8'):\n",
    "        if line.startswith('SF:'):\n",
    "            path = line[3:].strip()\n",
    "            skip = ('/__tests__/helpers/' in path) or ('/mocks/' in path)\n",
    "        if not skip:\n",
    "            keep.append(line)\n",
    "    open(output_path, 'w', encoding='utf-8').write(''.join(keep))\n",
    "    return output_path\n",
    "print('filter_lcov ready')\n"
   ]
  },
  {
   "cell_type": "markdown",
   "id": "c4450a64",
   "metadata": {},
   "source": [
    "## 4. Istanbul JSON（coverage-final.json）のマージ\n",
    "istanbul-lib-coverage を用いて artifacts/**/coverage-final.json をマージします。"
   ]
  },
  {
   "cell_type": "code",
   "execution_count": null,
   "id": "b917a597",
   "metadata": {},
   "outputs": [],
   "source": [
    "# Node スクリプトを生成して実行\n",
    "from pathlib import Path\n",
    "Path('scripts').mkdir(exist_ok=True)\n",
    "node_code = r\"\"\"\n",
    "const fs = require('fs');\n",
    "const path = require('path');\n",
    "const { createCoverageMap } = require('istanbul-lib-coverage');\n",
    "\n",
    "function findJson(dir){\n",
    "  const out = [];\n",
    "  function walk(d){\n",
    "     for (const f of fs.readdirSync(d)){\n",
    "       const p = path.join(d,f);\n",
    "       const s = fs.statSync(p);\n",
    "       if (s.isDirectory()) walk(p);\n",
    "       else if (f === 'coverage-final.json') out.push(p);\n",
    "     }\n",
    "  }\n",
    "  if (fs.existsSync(dir)) walk(dir);\n",
    "  return out;\n",
    "}\n",
    "\n",
    "const files = findJson('artifacts');\n",
    "console.log('found coverage json files:', files.length);\n",
    "const map = createCoverageMap({});\n",
    "for (const f of files){\n",
    "  try { const data = JSON.parse(fs.readFileSync(f,'utf8')); map.merge(data); }\n",
    "  catch (e){ console.warn('merge failed:', f, e.message); }\n",
    "}\n",
    "fs.mkdirSync('coverage/merged', { recursive: true });\n",
    "fs.writeFileSync('coverage/merged/coverage-final.json', JSON.stringify(map.toJSON()));\n",
    "console.log('merged -> coverage/merged/coverage-final.json');\n",
    "\"\"\"\n",
    "Path('scripts/merge-istanbul.js').write_text(node_code, encoding='utf-8')\n",
    "import os\n",
    "os.system('node scripts/merge-istanbul.js')\n"
   ]
  },
  {
   "cell_type": "markdown",
   "id": "02ed7a61",
   "metadata": {},
   "source": [
    "## 5. LCOV（lcov.info）のマージ\n",
    "lcov-result-merger を使うか、フォールバックとして Python 実装を用います。"
   ]
  },
  {
   "cell_type": "code",
   "execution_count": null,
   "id": "794c43f9",
   "metadata": {},
   "outputs": [],
   "source": [
    "# lcov-result-merger\n",
    "import os, glob\n",
    "os.makedirs('coverage/merged', exist_ok=True)\n",
    "paths = glob.glob('artifacts/**/lcov.info', recursive=True)\n",
    "if paths:\n",
    "    os.system('npx lcov-result-merger \"artifacts/**/lcov.info\" coverage/merged/lcov.info')\n",
    "else:\n",
    "    # フォールバック: 簡易 LCOV マージャ\n",
    "    from collections import defaultdict\n",
    "    def parse_lcov(text):\n",
    "        files = {}\n",
    "        current = None\n",
    "        for line in text.splitlines():\n",
    "            if line.startswith('SF:'):\n",
    "                current = line[3:].strip()\n",
    "                files.setdefault(current, defaultdict(int))\n",
    "            elif line.startswith('DA:') and current:\n",
    "                parts = line[3:].split(',')\n",
    "                ln = int(parts[0]); hits = int(parts[1])\n",
    "                files[current][ln] += hits\n",
    "        return files\n",
    "    agg = defaultdict(lambda: defaultdict(int))\n",
    "    for p in glob.glob('artifacts/**/coverage/lcov.info', recursive=True):\n",
    "        data = parse_lcov(open(p,'r',encoding='utf-8').read())\n",
    "        for f, lines in data.items():\n",
    "            for ln, hits in lines.items():\n",
    "                agg[f][ln] += hits\n",
    "    out = []\n",
    "    for f, lines in agg.items():\n",
    "        out.append(f'SF:{f}')\n",
    "        for ln in sorted(lines):\n",
    "            out.append(f'DA:{ln},{lines[ln]}')\n",
    "        out.append('end_of_record')\n",
    "    open('coverage/merged/lcov.info','w',encoding='utf-8').write('\\n'.join(out))\n",
    "print('lcov merged to coverage/merged/lcov.info (if any)')\n"
   ]
  },
  {
   "cell_type": "markdown",
   "id": "fbe7eda4",
   "metadata": {},
   "source": [
    "## 6. マージ後レポートの生成（text-summary, lcov, cobertura, html）\n",
    "istanbul-lib-report + istanbul-reports で最後のレポートを生成します。"
   ]
  },
  {
   "cell_type": "code",
   "execution_count": null,
   "id": "896e5e56",
   "metadata": {},
   "outputs": [],
   "source": [
    "# Node スクリプトでレポート生成\n",
    "from pathlib import Path\n",
    "report_js = r\"\"\"\n",
    "const fs = require('fs');\n",
    "const libReport = require('istanbul-lib-report');\n",
    "const reports = require('istanbul-reports');\n",
    "\n",
    "const dataPath = 'coverage/merged/coverage-final.json';\n",
    "if (!fs.existsSync(dataPath)){\n",
    "  console.error('missing coverage json:', dataPath);\n",
    "  process.exit(0);\n",
    "}\n",
    "const data = JSON.parse(fs.readFileSync(dataPath,'utf8'));\n",
    "const libCoverage = require('istanbul-lib-coverage');\n",
    "const map = libCoverage.createCoverageMap(data);\n",
    "const context = libReport.createContext({ dir: 'coverage/merged' });\n",
    "const reportTypes = ['text-summary', 'json-summary', 'lcov', 'cobertura', 'html'];\n",
    "for (const t of reportTypes){\n",
    "  reports.create(t, {}).execute(context, map);\n",
    "}\n",
    "console.log('reports generated under coverage/merged');\n",
    "\"\"\"\n",
    "Path('scripts/report-istanbul.js').write_text(report_js, encoding='utf-8')\n",
    "import os\n",
    "os.system('node scripts/report-istanbul.js')\n"
   ]
  },
  {
   "cell_type": "markdown",
   "id": "19fe2355",
   "metadata": {},
   "source": [
    "## 7. しきい値チェックと終了コード制御\n",
    "最終サマリから % を抽出して判定します（例: 80%）。"
   ]
  },
  {
   "cell_type": "code",
   "execution_count": null,
   "id": "9873c18f",
   "metadata": {},
   "outputs": [],
   "source": [
    "# しきい値の検証（デフォルト 80%）\n",
    "import json, sys\n",
    "summary_path = 'coverage/merged/coverage-summary.json'\n",
    "try:\n",
    "    with open(summary_path,'r',encoding='utf-8') as f:\n",
    "        s = json.load(f)['total']\n",
    "        stmt = s['statements']['pct']\n",
    "        lines = s['lines']['pct']\n",
    "        funcs = s['functions']['pct']\n",
    "        branch = s['branches']['pct']\n",
    "        print(f\"Statements: {stmt}%  Lines: {lines}%  Functions: {funcs}%  Branches: {branch}%\")\n",
    "        threshold = float(os.environ.get('COV_THRESHOLD', '80'))\n",
    "        ok = all(v >= threshold for v in [stmt, lines, funcs, branch])\n",
    "        print('threshold =', threshold, '=>', 'PASS' if ok else 'FAIL')\n",
    "        if not ok:\n",
    "            sys.exit(1)\n",
    "except FileNotFoundError:\n",
    "    print('coverage summary missing (ok if artifacts are dummy)')\n"
   ]
  },
  {
   "cell_type": "markdown",
   "id": "14698602",
   "metadata": {},
   "source": [
    "## 8. 欠落ジョブの検出とフォールバック統合\n",
    "期待ジョブの不足を検出し、警告を出しつつ既存成果物のみで継続します。"
   ]
  },
  {
   "cell_type": "code",
   "execution_count": null,
   "id": "04a7a9eb",
   "metadata": {},
   "outputs": [],
   "source": [
    "# 欠落ジョブ検出\n",
    "import glob\n",
    "expected = {'unit','integration','cb-rate','event-metrics'}\n",
    "found = set()\n",
    "for p in glob.glob('artifacts/**/coverage-final.json', recursive=True):\n",
    "    # 名前規約から推測（coverage-<group> の親ディレクトリ名などに合わせて調整）\n",
    "    # 例: artifacts/coverage-unit/coverage/coverage-final.json\n",
    "    parts = p.replace('\\\\','/').split('/')\n",
    "    for g in expected:\n",
    "        if any(g in seg for seg in parts):\n",
    "            found.add(g)\n",
    "missing = sorted(expected - found)\n",
    "print('found:', sorted(found))\n",
    "print('missing:', missing)\n",
    "if missing:\n",
    "    print('WARN: 欠落ジョブがあります。マージは継続しますが、夜間に再実行を推奨します。')\n"
   ]
  },
  {
   "cell_type": "markdown",
   "id": "43d6410c",
   "metadata": {},
   "source": [
    "## 9. PR コメント/Slack 通知用メトリクスの整形\n",
    "最終値を Markdown 化し、gh api や Slack Webhook に投稿します（ドライラン可）。"
   ]
  },
  {
   "cell_type": "code",
   "execution_count": null,
   "id": "3eda03ac",
   "metadata": {},
   "outputs": [],
   "source": [
    "# Markdown 整形と投稿例（ドライラン）\n",
    "import json, os, subprocess\n",
    "summary = {}\n",
    "try:\n",
    "    summary = json.load(open('coverage/merged/coverage-summary.json','r',encoding='utf-8'))['total']\n",
    "except Exception:\n",
    "    summary = {}\n",
    "\n",
    "def md_block(s):\n",
    "    return f\"## Merged Coverage\\n\\n| Metric | % |\\n|---|---:|\\n| Statements | {s.get('statements',{}).get('pct','N/A')} |\\n| Lines | {s.get('lines',{}).get('pct','N/A')} |\\n| Functions | {s.get('functions',{}).get('pct','N/A')} |\\n| Branches | {s.get('branches',{}).get('pct','N/A')} |\\n\"\n",
    "\n",
    "body = md_block(summary)\n",
    "print(body)\n",
    "\n",
    "# gh で PR コメント（環境によってはトークン設定が必要、ここではドライラン）\n",
    "if os.environ.get('GH_TOKEN'):\n",
    "    print('Posting comment via gh (simulated) ...')\n",
    "    # subprocess.run(['gh','pr','comment','--body', body], check=False)\n",
    "\n",
    "# Slack Webhook\n",
    "webhook = os.environ.get('SLACK_WEBHOOK_URL')\n",
    "if webhook:\n",
    "    import urllib.request, json as j\n",
    "    data = j.dumps({\"text\": body}).encode('utf-8')\n",
    "    req = urllib.request.Request(webhook, data=data, headers={'Content-Type': 'application/json'})\n",
    "    try:\n",
    "        urllib.request.urlopen(req)\n",
    "    except Exception as e:\n",
    "        print('Slack post failed:', e)\n"
   ]
  },
  {
   "cell_type": "markdown",
   "id": "b335d9fc",
   "metadata": {},
   "source": [
    "## 10. GitHub Actions 連携サンプル（artifact ダウンロードとマージ実行）\n",
    "最小の集約ワークフロー YAML をファイルとして出力します。"
   ]
  },
  {
   "cell_type": "code",
   "execution_count": null,
   "id": "5b835e1d",
   "metadata": {},
   "outputs": [],
   "source": [
    "# coverage-merge-pages.yml を生成（既存ワークフローの簡易版）\n",
    "from pathlib import Path\n",
    "wf = r\"\"\"\n",
    "name: Coverage Merge (Sample)\n",
    "\n",
    "on:\n",
    "  workflow_dispatch: {}\n",
    "\n",
    "jobs:\n",
    "  merge:\n",
    "    runs-on: ubuntu-latest\n",
    "    steps:\n",
    "      - uses: actions/checkout@v4\n",
    "      - uses: actions/download-artifact@v4\n",
    "        with:\n",
    "          path: artifacts\n",
    "          pattern: coverage-*\n",
    "          merge-multiple: true\n",
    "      - uses: actions/setup-node@v4\n",
    "        with:\n",
    "          node-version: 20\n",
    "      - run: |\n",
    "          node -e \"console.log('merging...')\"\n",
    "\"\"\"\n",
    "Path('.github/workflows/coverage-merge-sample.yml').write_text(wf, encoding='utf-8')\n",
    "print('wrote .github/workflows/coverage-merge-sample.yml')\n"
   ]
  },
  {
   "cell_type": "markdown",
   "id": "5d3daa1c",
   "metadata": {},
   "source": [
    "## 11. nightly/日中 CI の分岐サンプル（LONG_TESTS と --coverage 強制）\n",
    "LONG_TESTS=1 の場合のみ重いテストを実行し、常に --coverage を付与します。"
   ]
  },
  {
   "cell_type": "code",
   "execution_count": null,
   "id": "e437749c",
   "metadata": {},
   "outputs": [],
   "source": [
    "# 簡易分岐の疑似コード（実運用は GitHub Actions 側で実現）\n",
    "import os\n",
    "if os.environ.get('LONG_TESTS') == '1':\n",
    "    print('Run long tests with coverage: npm run test:long -- --coverage')\n",
    "else:\n",
    "    print('Skip long tests (daytime). Always run with --coverage on nightly.')\n"
   ]
  }
 ],
 "metadata": {
  "language_info": {
   "name": "python"
  }
 },
 "nbformat": 4,
 "nbformat_minor": 5
}
